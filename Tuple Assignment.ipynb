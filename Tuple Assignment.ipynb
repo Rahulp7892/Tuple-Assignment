{
 "cells": [
  {
   "cell_type": "code",
   "execution_count": 1,
   "id": "ee20cedb-f6f6-44d2-a4f4-481111e77a5a",
   "metadata": {},
   "outputs": [],
   "source": [
    "# Q1. What is a tuple in Python ?"
   ]
  },
  {
   "cell_type": "code",
   "execution_count": 12,
   "id": "b6289454-7fcc-4dc6-958a-0ed551987049",
   "metadata": {},
   "outputs": [],
   "source": [
    "# Ans : A tuple in python is a collection data type that is ordered and immutable. Tuples can store a sequance of items, which can be of diffrent types(such as integers ,floats,string,etc.)"
   ]
  },
  {
   "cell_type": "code",
   "execution_count": 4,
   "id": "34215e67-3608-40e8-b99a-848ded55aa43",
   "metadata": {},
   "outputs": [],
   "source": [
    "#Q2. How do you crate a tuple in paython"
   ]
  },
  {
   "cell_type": "code",
   "execution_count": 6,
   "id": "3db113c0-a48a-4ca6-9c85-e339ba39313a",
   "metadata": {},
   "outputs": [],
   "source": [
    "# Ans"
   ]
  },
  {
   "cell_type": "code",
   "execution_count": 8,
   "id": "0cf753a4-d4dd-48bd-a388-9b25a40b0e86",
   "metadata": {},
   "outputs": [],
   "source": [
    "t = (1,2,3,4,5,6,7,\"Apple\", 5.6,True)"
   ]
  },
  {
   "cell_type": "code",
   "execution_count": 9,
   "id": "cbde8a95-346f-4f9c-89e4-07d4e2ad7b28",
   "metadata": {},
   "outputs": [
    {
     "data": {
      "text/plain": [
       "(1, 2, 3, 4, 5, 6, 7, 'Apple', 5.6, True)"
      ]
     },
     "execution_count": 9,
     "metadata": {},
     "output_type": "execute_result"
    }
   ],
   "source": [
    "t"
   ]
  },
  {
   "cell_type": "code",
   "execution_count": 10,
   "id": "23734cce-4bcd-4cec-a1dd-07998744e91f",
   "metadata": {},
   "outputs": [
    {
     "data": {
      "text/plain": [
       "tuple"
      ]
     },
     "execution_count": 10,
     "metadata": {},
     "output_type": "execute_result"
    }
   ],
   "source": [
    "type(t)"
   ]
  },
  {
   "cell_type": "code",
   "execution_count": 18,
   "id": "92f279f7-ff1e-4026-9f0e-3b41a2e32741",
   "metadata": {},
   "outputs": [],
   "source": [
    "#Q3. What is the difference between a tuple and a list in Python ?"
   ]
  },
  {
   "cell_type": "code",
   "execution_count": null,
   "id": "4f571be3-fecb-4a38-bf26-84091e346e24",
   "metadata": {},
   "outputs": [],
   "source": [
    "#Ans : Tuple: Immutable ,meaning once a tuple is created,its elements cannot be changed,added,or removed.\n",
    "       List : Mutable,meaning elements can be changed,added, or removed after the list is created.\n",
    "        For Example :"
   ]
  },
  {
   "cell_type": "code",
   "execution_count": 19,
   "id": "c6e28803-7f67-4330-bc4b-c3e59a15010e",
   "metadata": {},
   "outputs": [],
   "source": [
    "t = (1,2,3,4)"
   ]
  },
  {
   "cell_type": "code",
   "execution_count": 20,
   "id": "8427b937-91e1-4c1a-b868-605ada4f2637",
   "metadata": {},
   "outputs": [
    {
     "ename": "TypeError",
     "evalue": "'tuple' object does not support item assignment",
     "output_type": "error",
     "traceback": [
      "\u001b[0;31m---------------------------------------------------------------------------\u001b[0m",
      "\u001b[0;31mTypeError\u001b[0m                                 Traceback (most recent call last)",
      "Cell \u001b[0;32mIn[20], line 1\u001b[0m\n\u001b[0;32m----> 1\u001b[0m \u001b[43mt\u001b[49m\u001b[43m[\u001b[49m\u001b[38;5;241;43m1\u001b[39;49m\u001b[43m]\u001b[49m \u001b[38;5;241m=\u001b[39m \u001b[38;5;241m11\u001b[39m\n",
      "\u001b[0;31mTypeError\u001b[0m: 'tuple' object does not support item assignment"
     ]
    }
   ],
   "source": [
    "t[1] = 11"
   ]
  },
  {
   "cell_type": "code",
   "execution_count": 21,
   "id": "ceac95c6-0c22-4ec9-91f2-25829a966730",
   "metadata": {},
   "outputs": [
    {
     "data": {
      "text/plain": [
       "(1, 2, 3, 4)"
      ]
     },
     "execution_count": 21,
     "metadata": {},
     "output_type": "execute_result"
    }
   ],
   "source": [
    "t"
   ]
  },
  {
   "cell_type": "code",
   "execution_count": null,
   "id": "4f56ef7c-5fce-4736-b49e-ae2f09bcf02c",
   "metadata": {},
   "outputs": [],
   "source": [
    "# list"
   ]
  },
  {
   "cell_type": "code",
   "execution_count": 22,
   "id": "274ec401-0dee-4a73-a1f1-0014a494203b",
   "metadata": {},
   "outputs": [],
   "source": [
    "l = [1,2,3,4,5,6,7]"
   ]
  },
  {
   "cell_type": "code",
   "execution_count": 23,
   "id": "1c79bdce-5958-4c38-801a-9d9bd6a319a4",
   "metadata": {},
   "outputs": [],
   "source": [
    "l[1] = 11"
   ]
  },
  {
   "cell_type": "code",
   "execution_count": 24,
   "id": "880a3d7e-442f-4bf3-ba83-5c03f693b285",
   "metadata": {},
   "outputs": [
    {
     "data": {
      "text/plain": [
       "[1, 11, 3, 4, 5, 6, 7]"
      ]
     },
     "execution_count": 24,
     "metadata": {},
     "output_type": "execute_result"
    }
   ],
   "source": [
    "l"
   ]
  },
  {
   "cell_type": "code",
   "execution_count": 1,
   "id": "24d0adc8-d81d-4812-a1d1-b14065bda196",
   "metadata": {},
   "outputs": [],
   "source": [
    "#Q4. Can a tuple be changed in python ?"
   ]
  },
  {
   "cell_type": "code",
   "execution_count": 2,
   "id": "d4be0aa5-d1ee-4ff3-871d-ecc70eb760c1",
   "metadata": {},
   "outputs": [],
   "source": [
    "# Ans"
   ]
  },
  {
   "cell_type": "code",
   "execution_count": null,
   "id": "01df48c6-980a-4daf-a5aa-9f44eef38ef8",
   "metadata": {},
   "outputs": [],
   "source": [
    "No, tuples in python are immutable, meaning their contents cannot be changed after they are created. Once you crate a tuple,you cannot modify,add,or remove items from it. This immutability is what distinguishes tuples from lists, which are mutable and can be modified after creation."
   ]
  },
  {
   "cell_type": "code",
   "execution_count": 3,
   "id": "b51ec1d5-a03e-42bf-9319-d0f05aed24bc",
   "metadata": {},
   "outputs": [],
   "source": [
    "#Q5. How do you access elements in a tuple ?"
   ]
  },
  {
   "cell_type": "code",
   "execution_count": 4,
   "id": "2906c690-a366-47d4-a62c-1c8ab93a801b",
   "metadata": {},
   "outputs": [],
   "source": [
    "#Ans"
   ]
  },
  {
   "cell_type": "code",
   "execution_count": 5,
   "id": "4089aadc-31e5-4e79-ae6b-47643517a24e",
   "metadata": {},
   "outputs": [],
   "source": [
    "t = (10,20,30,40,50,60,70,80)"
   ]
  },
  {
   "cell_type": "code",
   "execution_count": 6,
   "id": "5ba087b5-ed51-49c0-b9d9-db8cfdd93ae6",
   "metadata": {},
   "outputs": [
    {
     "data": {
      "text/plain": [
       "10"
      ]
     },
     "execution_count": 6,
     "metadata": {},
     "output_type": "execute_result"
    }
   ],
   "source": [
    "(t[0])"
   ]
  },
  {
   "cell_type": "code",
   "execution_count": 8,
   "id": "05dd5b8d-16d8-4355-9ce9-7067d29de71b",
   "metadata": {},
   "outputs": [
    {
     "data": {
      "text/plain": [
       "30"
      ]
     },
     "execution_count": 8,
     "metadata": {},
     "output_type": "execute_result"
    }
   ],
   "source": [
    "(t[2])"
   ]
  },
  {
   "cell_type": "code",
   "execution_count": 9,
   "id": "e01a9f46-5f56-4264-ada0-507213ab680b",
   "metadata": {},
   "outputs": [
    {
     "data": {
      "text/plain": [
       "8"
      ]
     },
     "execution_count": 9,
     "metadata": {},
     "output_type": "execute_result"
    }
   ],
   "source": [
    "len(t)"
   ]
  },
  {
   "cell_type": "code",
   "execution_count": 10,
   "id": "41b744e3-9ace-4b2d-9fa6-5b532ccee490",
   "metadata": {},
   "outputs": [
    {
     "data": {
      "text/plain": [
       "80"
      ]
     },
     "execution_count": 10,
     "metadata": {},
     "output_type": "execute_result"
    }
   ],
   "source": [
    "(t[-1])"
   ]
  },
  {
   "cell_type": "code",
   "execution_count": 11,
   "id": "f28abbec-a441-4b3e-b8c8-4f6bec8e411a",
   "metadata": {},
   "outputs": [
    {
     "data": {
      "text/plain": [
       "(20, 30, 40)"
      ]
     },
     "execution_count": 11,
     "metadata": {},
     "output_type": "execute_result"
    }
   ],
   "source": [
    "(t[1:4])"
   ]
  },
  {
   "cell_type": "code",
   "execution_count": 13,
   "id": "eaee909d-944a-4291-a5c2-a09819eba6fc",
   "metadata": {},
   "outputs": [
    {
     "data": {
      "text/plain": [
       "(30, 40, 50, 60, 70, 80)"
      ]
     },
     "execution_count": 13,
     "metadata": {},
     "output_type": "execute_result"
    }
   ],
   "source": [
    "(t[2:])"
   ]
  },
  {
   "cell_type": "code",
   "execution_count": 14,
   "id": "d6597a78-6140-4361-bea3-ae7b3e662a16",
   "metadata": {},
   "outputs": [
    {
     "data": {
      "text/plain": [
       "(10, 20)"
      ]
     },
     "execution_count": 14,
     "metadata": {},
     "output_type": "execute_result"
    }
   ],
   "source": [
    "(t[:2])"
   ]
  },
  {
   "cell_type": "code",
   "execution_count": 20,
   "id": "9786af76-1d08-4fbb-a185-e8622e54eb95",
   "metadata": {},
   "outputs": [],
   "source": [
    "a,b,c = (1,2,3)"
   ]
  },
  {
   "cell_type": "code",
   "execution_count": 21,
   "id": "623ed576-fcf5-4416-b6a0-f2236161e5a4",
   "metadata": {},
   "outputs": [
    {
     "data": {
      "text/plain": [
       "1"
      ]
     },
     "execution_count": 21,
     "metadata": {},
     "output_type": "execute_result"
    }
   ],
   "source": [
    "(a)"
   ]
  },
  {
   "cell_type": "code",
   "execution_count": 22,
   "id": "30619af1-d5ee-4241-b5ca-d9c69613a5ba",
   "metadata": {},
   "outputs": [
    {
     "data": {
      "text/plain": [
       "2"
      ]
     },
     "execution_count": 22,
     "metadata": {},
     "output_type": "execute_result"
    }
   ],
   "source": [
    "(b)"
   ]
  },
  {
   "cell_type": "code",
   "execution_count": 23,
   "id": "a5332a48-ead3-4b17-b7ef-1605f97572b0",
   "metadata": {},
   "outputs": [
    {
     "data": {
      "text/plain": [
       "3"
      ]
     },
     "execution_count": 23,
     "metadata": {},
     "output_type": "execute_result"
    }
   ],
   "source": [
    "(c)"
   ]
  },
  {
   "cell_type": "code",
   "execution_count": 1,
   "id": "aa88df6d-e94f-470a-84d3-eca6a9383e74",
   "metadata": {},
   "outputs": [],
   "source": [
    "#Q6 How do you unpack a tuple in Python ?"
   ]
  },
  {
   "cell_type": "code",
   "execution_count": 2,
   "id": "91f18231-c286-4361-bc0a-c106060fd43b",
   "metadata": {},
   "outputs": [],
   "source": [
    "# Ans "
   ]
  },
  {
   "cell_type": "code",
   "execution_count": 3,
   "id": "a5210901-e162-496e-9777-3aaa256cbeec",
   "metadata": {},
   "outputs": [],
   "source": [
    "t = (1,2,3)"
   ]
  },
  {
   "cell_type": "code",
   "execution_count": 5,
   "id": "8ff887a6-9d01-4367-b216-7dc2a4988eb3",
   "metadata": {},
   "outputs": [],
   "source": [
    "a,b,c = (t)"
   ]
  },
  {
   "cell_type": "code",
   "execution_count": 6,
   "id": "0a26758c-ab31-4047-af9d-21101210d014",
   "metadata": {},
   "outputs": [
    {
     "data": {
      "text/plain": [
       "1"
      ]
     },
     "execution_count": 6,
     "metadata": {},
     "output_type": "execute_result"
    }
   ],
   "source": [
    "a"
   ]
  },
  {
   "cell_type": "code",
   "execution_count": 7,
   "id": "cf074af9-7d3a-43ea-9843-a63a26d0fd94",
   "metadata": {},
   "outputs": [
    {
     "data": {
      "text/plain": [
       "2"
      ]
     },
     "execution_count": 7,
     "metadata": {},
     "output_type": "execute_result"
    }
   ],
   "source": [
    "b"
   ]
  },
  {
   "cell_type": "code",
   "execution_count": 8,
   "id": "a493bd09-c51f-4dd9-ae64-d9cbf1c1ba00",
   "metadata": {},
   "outputs": [
    {
     "data": {
      "text/plain": [
       "3"
      ]
     },
     "execution_count": 8,
     "metadata": {},
     "output_type": "execute_result"
    }
   ],
   "source": [
    "c"
   ]
  },
  {
   "cell_type": "code",
   "execution_count": 9,
   "id": "1c3f871c-1335-4885-a5c9-d3b8b1a18eb7",
   "metadata": {},
   "outputs": [],
   "source": [
    "t = (1,2,3,4)"
   ]
  },
  {
   "cell_type": "code",
   "execution_count": 10,
   "id": "3a00c009-f50c-4480-883d-0fc42dc80a26",
   "metadata": {},
   "outputs": [],
   "source": [
    "a,_,c,_ = (t)"
   ]
  },
  {
   "cell_type": "code",
   "execution_count": 11,
   "id": "74c13940-663e-4bd1-82b0-5c7e913e3625",
   "metadata": {},
   "outputs": [
    {
     "data": {
      "text/plain": [
       "1"
      ]
     },
     "execution_count": 11,
     "metadata": {},
     "output_type": "execute_result"
    }
   ],
   "source": [
    "a"
   ]
  },
  {
   "cell_type": "code",
   "execution_count": 12,
   "id": "6d8f0248-74dc-466d-8035-e0c1ea9dafb4",
   "metadata": {},
   "outputs": [
    {
     "data": {
      "text/plain": [
       "3"
      ]
     },
     "execution_count": 12,
     "metadata": {},
     "output_type": "execute_result"
    }
   ],
   "source": [
    "c"
   ]
  },
  {
   "cell_type": "code",
   "execution_count": null,
   "id": "efc7f334-3cab-4ab6-b070-69d40db3580e",
   "metadata": {},
   "outputs": [],
   "source": []
  }
 ],
 "metadata": {
  "kernelspec": {
   "display_name": "Python 3 (ipykernel)",
   "language": "python",
   "name": "python3"
  },
  "language_info": {
   "codemirror_mode": {
    "name": "ipython",
    "version": 3
   },
   "file_extension": ".py",
   "mimetype": "text/x-python",
   "name": "python",
   "nbconvert_exporter": "python",
   "pygments_lexer": "ipython3",
   "version": "3.10.8"
  }
 },
 "nbformat": 4,
 "nbformat_minor": 5
}
